{
 "cells": [
  {
   "cell_type": "code",
   "execution_count": 1,
   "id": "cf9029cf",
   "metadata": {},
   "outputs": [],
   "source": [
    "from jupyter_dash import JupyterDash"
   ]
  },
  {
   "cell_type": "code",
   "execution_count": 3,
   "id": "d93b26fb",
   "metadata": {},
   "outputs": [],
   "source": [
    "JupyterDash.infer_jupyter_proxy_config()"
   ]
  },
  {
   "cell_type": "code",
   "execution_count": 4,
   "id": "87b2f26e",
   "metadata": {},
   "outputs": [
    {
     "name": "stdout",
     "output_type": "stream",
     "text": [
      "Dash is running on http://127.0.0.1:8050/\n",
      "\n",
      "Dash app running on http://127.0.0.1:8050/\n"
     ]
    }
   ],
   "source": [
    "from dash import Dash, html, dcc\n",
    "import plotly.express as px\n",
    "import pandas as pd\n",
    "\n",
    "\n",
    "external_stylesheets = ['https://codepen.io/chriddyp/pen/bWLwgP.css']\n",
    "\n",
    "app = JupyterDash(__name__, external_stylesheets=external_stylesheets)\n",
    "\n",
    "\n",
    "### data\n",
    "soql_url = ('https://data.cityofnewyork.us/resource/nwxe-4ae8.json?' +\\\n",
    "        '$select=spc_common,boroname,health,steward,count(tree_id)' +\\\n",
    "        '&$group=spc_common,boroname,health,steward' +\\\n",
    "        '&$limit=50000').replace(' ', '%20')\n",
    "soql_trees = pd.read_json(soql_url)\n",
    "\n",
    "df1 = soql_trees.groupby(['boroname','health'])['count_tree_id'].sum().groupby(level=0).apply(lambda x: round(100*x/x.sum(), 2)).reset_index().rename(columns={'boroname':'borough','count_tree_id':'pct'})\n",
    "\n",
    "###\n",
    "\n",
    "fig = px.bar(df1, x=\"borough\", y=\"pct\", color=\"health\", barmode=\"group\")\n",
    "\n",
    "app.layout = html.Div(children=[\n",
    "    html.H1(children='Proportion of Health - Borough'),\n",
    "\n",
    "    html.Div(children='''\n",
    "        Proportion of tree health by borough.\n",
    "    ''', style={\n",
    "        'textAlign': 'center'\n",
    "    }),\n",
    "\n",
    "    dcc.Graph(\n",
    "        id='example-graph',\n",
    "        figure=fig\n",
    "    )\n",
    "])\n",
    "\n",
    "if __name__ == '__main__':\n",
    "    app.run_server(debug=True)"
   ]
  },
  {
   "cell_type": "code",
   "execution_count": 6,
   "id": "258cec89",
   "metadata": {},
   "outputs": [
    {
     "name": "stdout",
     "output_type": "stream",
     "text": [
      "Dash is running on http://127.0.0.1:8050/\n",
      "\n",
      "Dash app running on http://127.0.0.1:8050/\n"
     ]
    }
   ],
   "source": [
    "from dash import Dash, html, dcc, Input, Output\n",
    "import pandas as pd\n",
    "import plotly.express as px\n",
    "\n",
    "external_stylesheets = ['https://codepen.io/chriddyp/pen/bWLwgP.css']\n",
    "\n",
    "app = JupyterDash(__name__, external_stylesheets=external_stylesheets)\n",
    "\n",
    "soql_url = ('https://data.cityofnewyork.us/resource/nwxe-4ae8.json?' +\\\n",
    "        '$select=spc_common,boroname,health,steward,count(tree_id)' +\\\n",
    "        '&$group=spc_common,boroname,health,steward' +\\\n",
    "        '&$limit=50000').replace(' ', '%20')\n",
    "df = pd.read_json(soql_url)\n",
    "\n",
    "df2 = soql_trees.groupby(['spc_common','health','steward'])['count_tree_id'].sum().groupby(level=0).apply(lambda x: round(100*x/x.sum(), 2)).reset_index().rename(columns={'spc_common':'tree','count_tree_id':'pct'})\n",
    "df2['tree'] = df2['tree'].str.title()\n",
    "df3 = soql_trees.groupby(['health','steward'])['count_tree_id'].sum().groupby(level=0).apply(lambda x: round(100*x/x.sum(), 2)).reset_index().rename(columns={'count_tree_id':'pct'})\n",
    "\n",
    "fig1 = px.bar(df2, x=\"health\", y=\"pct\", color=\"steward\", barmode=\"group\", title=\"\")\n",
    "fig2 = px.bar(df3, x=\"health\", y=\"pct\", color=\"steward\", barmode=\"group\", title=\"Health by # of Stewards - Overall\")\n",
    "\n",
    "\n",
    "app.layout = html.Div([\n",
    "    html.Div([\n",
    "\n",
    "        html.Div([\n",
    "            dcc.Dropdown(\n",
    "                options=[x for x in df2.tree.unique()],\n",
    "                id='tree-selector',\n",
    "                value=[x.title() for x in df2.tree.unique()][0]\n",
    "            )\n",
    "        ],\n",
    "        style={'width': '49%', 'display': 'inline-block'})\n",
    "    ]),\n",
    "\n",
    "    html.Div([\n",
    "        dcc.Graph(\n",
    "            id='tree-bar',\n",
    "            figure=fig1\n",
    "        )\n",
    "    ], style={'width': '49%', 'display': 'inline-block', 'padding': '0 20'}), \n",
    "    \n",
    "    html.Div([\n",
    "        dcc.Graph(\n",
    "            id='health-bar',\n",
    "            figure=fig2\n",
    "        )\n",
    "    ], style={'width': '49%', 'display': 'inline-block', 'padding': '0 20'}),\n",
    "])\n",
    "\n",
    "@app.callback(\n",
    "    Output('tree-bar','figure'),\n",
    "    Input('tree-selector','value'))\n",
    "\n",
    "def update_graph(value):\n",
    "    df4 = df2[df2['tree'] == value]\n",
    "\n",
    "    fig1 = px.bar(df4, x=\"health\", \n",
    "                  y=\"pct\", color=\"steward\", \n",
    "                  barmode=\"group\", \n",
    "                  title=value)\n",
    "\n",
    "    return fig1\n",
    "\n",
    "\n",
    "if __name__ == '__main__':\n",
    "    app.run_server(debug=True)"
   ]
  }
 ],
 "metadata": {
  "kernelspec": {
   "display_name": "Python 3 (ipykernel)",
   "language": "python",
   "name": "python3"
  },
  "language_info": {
   "codemirror_mode": {
    "name": "ipython",
    "version": 3
   },
   "file_extension": ".py",
   "mimetype": "text/x-python",
   "name": "python",
   "nbconvert_exporter": "python",
   "pygments_lexer": "ipython3",
   "version": "3.9.12"
  }
 },
 "nbformat": 4,
 "nbformat_minor": 5
}
