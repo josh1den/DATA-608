{
 "cells": [
  {
   "cell_type": "code",
   "execution_count": 2,
   "id": "ebed95cb",
   "metadata": {},
   "outputs": [],
   "source": [
    "from jupyter_dash import JupyterDash"
   ]
  },
  {
   "cell_type": "code",
   "execution_count": 5,
   "id": "34276588",
   "metadata": {},
   "outputs": [],
   "source": [
    "JupyterDash.infer_jupyter_proxy_config()"
   ]
  },
  {
   "cell_type": "code",
   "execution_count": 10,
   "id": "37b9c480",
   "metadata": {},
   "outputs": [
    {
     "name": "stdout",
     "output_type": "stream",
     "text": [
      "Dash is running on http://127.0.0.1:8050/\n",
      "\n",
      "Dash app running on http://127.0.0.1:8050/\n"
     ]
    }
   ],
   "source": [
    "from dash import Dash, html, dcc\n",
    "import plotly.express as px\n",
    "import pandas as pd\n",
    "\n",
    "\n",
    "\n",
    "external_stylesheets = ['https://codepen.io/chriddyp/pen/bWLwgP.css']\n",
    "\n",
    "app = JupyterDash(__name__, external_stylesheets=external_stylesheets)\n",
    "\n",
    "\n",
    "### data\n",
    "soql_url = ('https://data.cityofnewyork.us/resource/nwxe-4ae8.json?' +\\\n",
    "        '$select=spc_common,boroname,health,steward,count(tree_id)' +\\\n",
    "        '&$group=spc_common,boroname,health,steward' +\\\n",
    "        '&$limit=50000').replace(' ', '%20')\n",
    "soql_trees = pd.read_json(soql_url)\n",
    "\n",
    "df1 = soql_trees.groupby(['boroname','health'])['count_tree_id'].sum().groupby(level=0).apply(lambda x: round(100*x/x.sum(), 2)).reset_index().rename(columns={'boroname':'borough','count_tree_id':'pct'})\n",
    "\n",
    "###\n",
    "\n",
    "fig = px.bar(df1, x=\"borough\", y=\"pct\", color=\"health\", barmode=\"group\")\n",
    "\n",
    "app.layout = html.Div(children=[\n",
    "    html.H1(children='Proportion of Health - Borough'),\n",
    "\n",
    "    html.Div(children='''\n",
    "        Proportion of tree health by borough.\n",
    "    '''),\n",
    "\n",
    "    dcc.Graph(\n",
    "        id='example-graph',\n",
    "        figure=fig\n",
    "    )\n",
    "])\n",
    "\n",
    "if __name__ == '__main__':\n",
    "    app.run_server(debug=True)"
   ]
  }
 ],
 "metadata": {
  "kernelspec": {
   "display_name": "Python 3 (ipykernel)",
   "language": "python",
   "name": "python3"
  },
  "language_info": {
   "codemirror_mode": {
    "name": "ipython",
    "version": 3
   },
   "file_extension": ".py",
   "mimetype": "text/x-python",
   "name": "python",
   "nbconvert_exporter": "python",
   "pygments_lexer": "ipython3",
   "version": "3.9.12"
  }
 },
 "nbformat": 4,
 "nbformat_minor": 5
}
